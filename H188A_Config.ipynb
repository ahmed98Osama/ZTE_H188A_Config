{
  "nbformat": 4,
  "nbformat_minor": 0,
  "metadata": {
    "colab": {
      "provenance": [],
      "collapsed_sections": [
        "cy8JqVLzdzTa",
        "CdW8GA9NjeW8"
      ],
      "authorship_tag": "ABX9TyOt9rIQCfZ45DBIXxeq+UtS",
      "include_colab_link": true
    },
    "kernelspec": {
      "name": "python3",
      "display_name": "Python 3"
    },
    "language_info": {
      "name": "python"
    }
  },
  "cells": [
    {
      "cell_type": "markdown",
      "metadata": {
        "id": "view-in-github",
        "colab_type": "text"
      },
      "source": [
        "<a href=\"https://colab.research.google.com/github/ahmed98Osama/ZTE_H188A_Config/blob/main/H188A_Config.ipynb\" target=\"_parent\"><img src=\"https://colab.research.google.com/assets/colab-badge.svg\" alt=\"Open In Colab\"/></a>"
      ]
    },
    {
      "cell_type": "markdown",
      "source": [
        "#Script for decoding/encoding configration file for ZTE H188A Router\n",
        "\n",
        "\"Alright, buckle up! Playing with settings? Exciting! But hey, remember, what you do with those settings is on you. If your router decides to go bonkers, well, I'm not taking the blame. And just a heads-up, if things really hit the fan, like your router turning into a toaster or a disco ball, I'm not responsible for any techno-drama, your cat's impromptu dance party, or your house spontaneously deciding to play with fire. Stay safe out there!\"\n",
        "\n",
        "#### thanks to contributors of this repo https://github.com/mkst/zte-config-utility\n",
        "\n",
        "#####this notebook created by SilverDragon 🐲\n",
        "\n"
      ],
      "metadata": {
        "id": "JqsyERH9Zyfu"
      }
    },
    {
      "cell_type": "markdown",
      "source": [
        "#1. Prepare enviroment"
      ],
      "metadata": {
        "id": "cy8JqVLzdzTa"
      }
    },
    {
      "cell_type": "code",
      "execution_count": 7,
      "metadata": {
        "colab": {
          "base_uri": "https://localhost:8080/"
        },
        "id": "iA5d4cEvS_S6",
        "outputId": "78e50102-5fb5-4bb9-e63a-a4bff1586045"
      },
      "outputs": [
        {
          "output_type": "stream",
          "name": "stdout",
          "text": [
            "Requirement already satisfied: pycryptodomex in /root/.local/lib/python3.12/site-packages (3.20.0)\n"
          ]
        }
      ],
      "source": [
        "!pip install pycryptodomex"
      ]
    },
    {
      "cell_type": "code",
      "source": [
        "!git clone https://github.com/mkst/zte-config-utility.git"
      ],
      "metadata": {
        "colab": {
          "base_uri": "https://localhost:8080/"
        },
        "id": "LNhg-bMXTDPG",
        "outputId": "840364ce-06d2-4966-9ebb-edfcaacd54a2"
      },
      "execution_count": 8,
      "outputs": [
        {
          "output_type": "stream",
          "name": "stdout",
          "text": [
            "fatal: destination path 'zte-config-utility' already exists and is not an empty directory.\n"
          ]
        }
      ]
    },
    {
      "cell_type": "code",
      "source": [
        "!python3 -m pip install --user ./zte-config-utility"
      ],
      "metadata": {
        "colab": {
          "base_uri": "https://localhost:8080/"
        },
        "id": "b5uNrh9lTUQi",
        "outputId": "35dc06a4-dfc1-4643-c64e-254b2eb6289c"
      },
      "execution_count": 9,
      "outputs": [
        {
          "output_type": "stream",
          "name": "stdout",
          "text": [
            "Processing ./zte-config-utility\n",
            "  Preparing metadata (setup.py) ... \u001b[?25l\u001b[?25hdone\n",
            "Requirement already satisfied: pycryptodomex==3.20.0 in /root/.local/lib/python3.12/site-packages (from zcu==0.5.3) (3.20.0)\n",
            "Building wheels for collected packages: zcu\n",
            "  Building wheel for zcu (setup.py) ... \u001b[?25l\u001b[?25hdone\n",
            "  Created wheel for zcu: filename=zcu-0.5.3-py3-none-any.whl size=10715 sha256=6c30c5fcbe5daa1fec17921997c63226331e758567665d7c249b2a8360da21de\n",
            "  Stored in directory: /root/.cache/pip/wheels/ef/6b/61/f8bf954156daf0612d9e7aa3e360476f0787ab384827b3e306\n",
            "Successfully built zcu\n",
            "Installing collected packages: zcu\n",
            "  Attempting uninstall: zcu\n",
            "    Found existing installation: zcu 0.5.3\n",
            "    Uninstalling zcu-0.5.3:\n",
            "      Successfully uninstalled zcu-0.5.3\n",
            "Successfully installed zcu-0.5.3\n"
          ]
        }
      ]
    },
    {
      "cell_type": "markdown",
      "source": [
        "#2. Upload your configration file (You can get it from Your router)"
      ],
      "metadata": {
        "id": "dbT8qUUndlOc"
      }
    },
    {
      "cell_type": "code",
      "source": [
        "# prompt: upload file and set its name config.bin\n",
        "import os\n",
        "from google.colab import files\n",
        "\n",
        "uploaded = files.upload()\n",
        "\n",
        "os.rename(list(uploaded.keys())[0], 'config.bin')\n"
      ],
      "metadata": {
        "colab": {
          "base_uri": "https://localhost:8080/",
          "height": 73
        },
        "id": "KKaGj4uRX4y4",
        "outputId": "1bd37abc-3c15-4936-a5c9-25e317e52e0b"
      },
      "execution_count": null,
      "outputs": [
        {
          "output_type": "display_data",
          "data": {
            "text/plain": [
              "<IPython.core.display.HTML object>"
            ],
            "text/html": [
              "\n",
              "     <input type=\"file\" id=\"files-21130523-252b-43a4-91da-27231eff52a6\" name=\"files[]\" multiple disabled\n",
              "        style=\"border:none\" />\n",
              "     <output id=\"result-21130523-252b-43a4-91da-27231eff52a6\">\n",
              "      Upload widget is only available when the cell has been executed in the\n",
              "      current browser session. Please rerun this cell to enable.\n",
              "      </output>\n",
              "      <script>// Copyright 2017 Google LLC\n",
              "//\n",
              "// Licensed under the Apache License, Version 2.0 (the \"License\");\n",
              "// you may not use this file except in compliance with the License.\n",
              "// You may obtain a copy of the License at\n",
              "//\n",
              "//      http://www.apache.org/licenses/LICENSE-2.0\n",
              "//\n",
              "// Unless required by applicable law or agreed to in writing, software\n",
              "// distributed under the License is distributed on an \"AS IS\" BASIS,\n",
              "// WITHOUT WARRANTIES OR CONDITIONS OF ANY KIND, either express or implied.\n",
              "// See the License for the specific language governing permissions and\n",
              "// limitations under the License.\n",
              "\n",
              "/**\n",
              " * @fileoverview Helpers for google.colab Python module.\n",
              " */\n",
              "(function(scope) {\n",
              "function span(text, styleAttributes = {}) {\n",
              "  const element = document.createElement('span');\n",
              "  element.textContent = text;\n",
              "  for (const key of Object.keys(styleAttributes)) {\n",
              "    element.style[key] = styleAttributes[key];\n",
              "  }\n",
              "  return element;\n",
              "}\n",
              "\n",
              "// Max number of bytes which will be uploaded at a time.\n",
              "const MAX_PAYLOAD_SIZE = 100 * 1024;\n",
              "\n",
              "function _uploadFiles(inputId, outputId) {\n",
              "  const steps = uploadFilesStep(inputId, outputId);\n",
              "  const outputElement = document.getElementById(outputId);\n",
              "  // Cache steps on the outputElement to make it available for the next call\n",
              "  // to uploadFilesContinue from Python.\n",
              "  outputElement.steps = steps;\n",
              "\n",
              "  return _uploadFilesContinue(outputId);\n",
              "}\n",
              "\n",
              "// This is roughly an async generator (not supported in the browser yet),\n",
              "// where there are multiple asynchronous steps and the Python side is going\n",
              "// to poll for completion of each step.\n",
              "// This uses a Promise to block the python side on completion of each step,\n",
              "// then passes the result of the previous step as the input to the next step.\n",
              "function _uploadFilesContinue(outputId) {\n",
              "  const outputElement = document.getElementById(outputId);\n",
              "  const steps = outputElement.steps;\n",
              "\n",
              "  const next = steps.next(outputElement.lastPromiseValue);\n",
              "  return Promise.resolve(next.value.promise).then((value) => {\n",
              "    // Cache the last promise value to make it available to the next\n",
              "    // step of the generator.\n",
              "    outputElement.lastPromiseValue = value;\n",
              "    return next.value.response;\n",
              "  });\n",
              "}\n",
              "\n",
              "/**\n",
              " * Generator function which is called between each async step of the upload\n",
              " * process.\n",
              " * @param {string} inputId Element ID of the input file picker element.\n",
              " * @param {string} outputId Element ID of the output display.\n",
              " * @return {!Iterable<!Object>} Iterable of next steps.\n",
              " */\n",
              "function* uploadFilesStep(inputId, outputId) {\n",
              "  const inputElement = document.getElementById(inputId);\n",
              "  inputElement.disabled = false;\n",
              "\n",
              "  const outputElement = document.getElementById(outputId);\n",
              "  outputElement.innerHTML = '';\n",
              "\n",
              "  const pickedPromise = new Promise((resolve) => {\n",
              "    inputElement.addEventListener('change', (e) => {\n",
              "      resolve(e.target.files);\n",
              "    });\n",
              "  });\n",
              "\n",
              "  const cancel = document.createElement('button');\n",
              "  inputElement.parentElement.appendChild(cancel);\n",
              "  cancel.textContent = 'Cancel upload';\n",
              "  const cancelPromise = new Promise((resolve) => {\n",
              "    cancel.onclick = () => {\n",
              "      resolve(null);\n",
              "    };\n",
              "  });\n",
              "\n",
              "  // Wait for the user to pick the files.\n",
              "  const files = yield {\n",
              "    promise: Promise.race([pickedPromise, cancelPromise]),\n",
              "    response: {\n",
              "      action: 'starting',\n",
              "    }\n",
              "  };\n",
              "\n",
              "  cancel.remove();\n",
              "\n",
              "  // Disable the input element since further picks are not allowed.\n",
              "  inputElement.disabled = true;\n",
              "\n",
              "  if (!files) {\n",
              "    return {\n",
              "      response: {\n",
              "        action: 'complete',\n",
              "      }\n",
              "    };\n",
              "  }\n",
              "\n",
              "  for (const file of files) {\n",
              "    const li = document.createElement('li');\n",
              "    li.append(span(file.name, {fontWeight: 'bold'}));\n",
              "    li.append(span(\n",
              "        `(${file.type || 'n/a'}) - ${file.size} bytes, ` +\n",
              "        `last modified: ${\n",
              "            file.lastModifiedDate ? file.lastModifiedDate.toLocaleDateString() :\n",
              "                                    'n/a'} - `));\n",
              "    const percent = span('0% done');\n",
              "    li.appendChild(percent);\n",
              "\n",
              "    outputElement.appendChild(li);\n",
              "\n",
              "    const fileDataPromise = new Promise((resolve) => {\n",
              "      const reader = new FileReader();\n",
              "      reader.onload = (e) => {\n",
              "        resolve(e.target.result);\n",
              "      };\n",
              "      reader.readAsArrayBuffer(file);\n",
              "    });\n",
              "    // Wait for the data to be ready.\n",
              "    let fileData = yield {\n",
              "      promise: fileDataPromise,\n",
              "      response: {\n",
              "        action: 'continue',\n",
              "      }\n",
              "    };\n",
              "\n",
              "    // Use a chunked sending to avoid message size limits. See b/62115660.\n",
              "    let position = 0;\n",
              "    do {\n",
              "      const length = Math.min(fileData.byteLength - position, MAX_PAYLOAD_SIZE);\n",
              "      const chunk = new Uint8Array(fileData, position, length);\n",
              "      position += length;\n",
              "\n",
              "      const base64 = btoa(String.fromCharCode.apply(null, chunk));\n",
              "      yield {\n",
              "        response: {\n",
              "          action: 'append',\n",
              "          file: file.name,\n",
              "          data: base64,\n",
              "        },\n",
              "      };\n",
              "\n",
              "      let percentDone = fileData.byteLength === 0 ?\n",
              "          100 :\n",
              "          Math.round((position / fileData.byteLength) * 100);\n",
              "      percent.textContent = `${percentDone}% done`;\n",
              "\n",
              "    } while (position < fileData.byteLength);\n",
              "  }\n",
              "\n",
              "  // All done.\n",
              "  yield {\n",
              "    response: {\n",
              "      action: 'complete',\n",
              "    }\n",
              "  };\n",
              "}\n",
              "\n",
              "scope.google = scope.google || {};\n",
              "scope.google.colab = scope.google.colab || {};\n",
              "scope.google.colab._files = {\n",
              "  _uploadFiles,\n",
              "  _uploadFilesContinue,\n",
              "};\n",
              "})(self);\n",
              "</script> "
            ]
          },
          "metadata": {}
        },
        {
          "output_type": "stream",
          "name": "stdout",
          "text": [
            "Saving MYconfig.bin to MYconfig.bin\n"
          ]
        }
      ]
    },
    {
      "cell_type": "markdown",
      "source": [
        "#3. Decode\n",
        "After run this cell You will xml file\n",
        "\n",
        "```\n",
        "/content/out.xml\n",
        "```\n",
        "edit it as you like then move to next step to encode it\n",
        "\n"
      ],
      "metadata": {
        "id": "wu5802XkcKI6"
      }
    },
    {
      "cell_type": "code",
      "source": [
        "!python3 /content/zte-config-utility/examples/auto.py /content/WITHMTU1492.bin config.xml"
      ],
      "metadata": {
        "colab": {
          "base_uri": "https://localhost:8080/"
        },
        "id": "HyZT7TLRVEOX",
        "outputId": "e14b845a-152d-48b1-8ad1-cfb2c641925d"
      },
      "execution_count": 21,
      "outputs": [
        {
          "output_type": "stream",
          "name": "stdout",
          "text": [
            "To decode any 'mac' payloads, please specify MAC Address, e.g.\n",
            "  --mac 'AA:BB:CC:DD:EE:FF'\n",
            "To decode any 'mac+serial' payloads, please specify MAC Address and Serial Number, e.g.\n",
            "  --mac 'AA:BB:CC:DD:EE:FF' --serial 'SERIALNUMBER'\n",
            "Successfully decrypted and decompressed /content/WITHMTU1492.bin using (key, iv): ('H188AKey02710001', 'H188AIv02710001')\n"
          ]
        }
      ]
    },
    {
      "cell_type": "markdown",
      "source": [
        "#4. Encode\n",
        "edit this xml file as you like\n",
        "```\n",
        " /content/out.xml\n",
        "```\n",
        "then run this cell to encode it"
      ],
      "metadata": {
        "id": "vpHqbIZgb04s"
      }
    },
    {
      "cell_type": "code",
      "source": [
        "!python3 /content/zte-config-utility/examples/encode.py  config.xml cairo.bin --key H188AKey02710001 --iv H188AIv02710001"
      ],
      "metadata": {
        "colab": {
          "base_uri": "https://localhost:8080/"
        },
        "id": "yI7iwacZjVGR",
        "outputId": "37807556-ec85-4a5c-b12a-1ef4ef766f34"
      },
      "execution_count": 22,
      "outputs": [
        {
          "output_type": "stream",
          "name": "stdout",
          "text": [
            "Warning: No/empty signature provided!\n",
            "Done!\n"
          ]
        }
      ]
    },
    {
      "cell_type": "markdown",
      "source": [
        "#5. Download \"output.bin\""
      ],
      "metadata": {
        "id": "CdW8GA9NjeW8"
      }
    },
    {
      "cell_type": "code",
      "source": [
        "\n",
        "try:\n",
        "  files.download('/content/output.bin')\n",
        "except FileNotFoundError:\n",
        "  print(\"File '/content/output.bin' does not exist.\")\n"
      ],
      "metadata": {
        "colab": {
          "base_uri": "https://localhost:8080/",
          "height": 17
        },
        "id": "JctT7uC5jXQC",
        "outputId": "35931207-77ca-45da-9613-d6011091287b"
      },
      "execution_count": null,
      "outputs": [
        {
          "output_type": "display_data",
          "data": {
            "text/plain": [
              "<IPython.core.display.Javascript object>"
            ],
            "application/javascript": [
              "\n",
              "    async function download(id, filename, size) {\n",
              "      if (!google.colab.kernel.accessAllowed) {\n",
              "        return;\n",
              "      }\n",
              "      const div = document.createElement('div');\n",
              "      const label = document.createElement('label');\n",
              "      label.textContent = `Downloading \"${filename}\": `;\n",
              "      div.appendChild(label);\n",
              "      const progress = document.createElement('progress');\n",
              "      progress.max = size;\n",
              "      div.appendChild(progress);\n",
              "      document.body.appendChild(div);\n",
              "\n",
              "      const buffers = [];\n",
              "      let downloaded = 0;\n",
              "\n",
              "      const channel = await google.colab.kernel.comms.open(id);\n",
              "      // Send a message to notify the kernel that we're ready.\n",
              "      channel.send({})\n",
              "\n",
              "      for await (const message of channel.messages) {\n",
              "        // Send a message to notify the kernel that we're ready.\n",
              "        channel.send({})\n",
              "        if (message.buffers) {\n",
              "          for (const buffer of message.buffers) {\n",
              "            buffers.push(buffer);\n",
              "            downloaded += buffer.byteLength;\n",
              "            progress.value = downloaded;\n",
              "          }\n",
              "        }\n",
              "      }\n",
              "      const blob = new Blob(buffers, {type: 'application/binary'});\n",
              "      const a = document.createElement('a');\n",
              "      a.href = window.URL.createObjectURL(blob);\n",
              "      a.download = filename;\n",
              "      div.appendChild(a);\n",
              "      a.click();\n",
              "      div.remove();\n",
              "    }\n",
              "  "
            ]
          },
          "metadata": {}
        },
        {
          "output_type": "display_data",
          "data": {
            "text/plain": [
              "<IPython.core.display.Javascript object>"
            ],
            "application/javascript": [
              "download(\"download_cbd1ad8c-f483-4bac-a830-a32652c60a7c\", \"output.bin\", 20250)"
            ]
          },
          "metadata": {}
        }
      ]
    },
    {
      "cell_type": "code",
      "source": [
        "! sha1sum /content/*.bin"
      ],
      "metadata": {
        "colab": {
          "base_uri": "https://localhost:8080/"
        },
        "id": "ENYK-AxPviAH",
        "outputId": "f50357ce-caa6-4be1-fa12-6b37cd10242a"
      },
      "execution_count": 18,
      "outputs": [
        {
          "output_type": "stream",
          "name": "stdout",
          "text": [
            "e11bac0e6e1d0790fd271b768f25f652b0410dd5  /content/cairo.bin\n",
            "5960181ccc0f342026d2b13a2aab83599d92aec2  /content/config-new1.bin\n",
            "5960181ccc0f342026d2b13a2aab83599d92aec2  /content/config-new.bin\n",
            "239453618054c141cc19b4464e8f7bea51570a22  /content/output (1).bin\n",
            "5960181ccc0f342026d2b13a2aab83599d92aec2  /content/WITHMTU1492.bin\n"
          ]
        }
      ]
    },
    {
      "cell_type": "code",
      "source": [
        "! sha1sum /content/*.xml"
      ],
      "metadata": {
        "colab": {
          "base_uri": "https://localhost:8080/"
        },
        "id": "vRpknAL7yA2P",
        "outputId": "dde7ddc8-ceea-41e6-e857-05d04a942d1a"
      },
      "execution_count": 11,
      "outputs": [
        {
          "output_type": "stream",
          "name": "stdout",
          "text": [
            "d8b7b9485dca2d4175319e65037bd91863b75212  /content/config.xml\n"
          ]
        }
      ]
    }
  ]
}